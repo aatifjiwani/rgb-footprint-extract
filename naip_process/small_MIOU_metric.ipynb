{
 "cells": [
  {
   "cell_type": "markdown",
   "id": "d4986549",
   "metadata": {},
   "source": [
    "# Small mIoU metric"
   ]
  },
  {
   "cell_type": "code",
   "execution_count": null,
   "id": "aae92989",
   "metadata": {},
   "outputs": [],
   "source": [
    "import numpy as np\n",
    "from skimage import io, img_as_bool, measure, morphology\n",
    "import matplotlib.pyplot as plt"
   ]
  },
  {
   "cell_type": "markdown",
   "id": "2b6e5a67",
   "metadata": {},
   "source": [
    "## Working example"
   ]
  },
  {
   "cell_type": "code",
   "execution_count": null,
   "id": "16612629",
   "metadata": {},
   "outputs": [],
   "source": [
    "gt_file = '/Users/avaimar/Desktop/m_3712141_se_10_060_20200525_134.npy'\n",
    "mask_file = '/Users/avaimar/Desktop/m_3712141_se_10_060_20200525_134_mask.npy'\n",
    "mask_wt_file = '/Users/avaimar/Desktop/m_3712141_se_10_060_20200525_134_mask_wt.npy'\n",
    "pred_file = '/Users/avaimar/Desktop/p2_sj_adu_0.2_1.03_miou.npy'"
   ]
  },
  {
   "cell_type": "code",
   "execution_count": null,
   "id": "0c5deee3",
   "metadata": {},
   "outputs": [],
   "source": [
    "image = np.load(gt_file)\n",
    "pred_image = np.load(pred_file)\n",
    "mask = np.load(mask_file)\n",
    "\n",
    "gt_image = (mask > 0).astype(np.int32)\n",
    "gt_area = mask"
   ]
  },
  {
   "cell_type": "code",
   "execution_count": null,
   "id": "71952cf7",
   "metadata": {},
   "outputs": [],
   "source": [
    "print('Ground truth')\n",
    "plt.imshow(image)"
   ]
  },
  {
   "cell_type": "code",
   "execution_count": null,
   "id": "8d0022e4",
   "metadata": {},
   "outputs": [],
   "source": [
    "print('Mask')\n",
    "plt.imshow(gt_image)"
   ]
  },
  {
   "cell_type": "code",
   "execution_count": null,
   "id": "cbbe6a09",
   "metadata": {},
   "outputs": [],
   "source": [
    "print('Inference')\n",
    "plt.imshow(pred_image)"
   ]
  },
  {
   "cell_type": "code",
   "execution_count": null,
   "id": "b672a501",
   "metadata": {},
   "outputs": [],
   "source": [
    "print('Area')\n",
    "plt.imshow(gt_area)"
   ]
  },
  {
   "cell_type": "code",
   "execution_count": null,
   "id": "bcb6c9be",
   "metadata": {},
   "outputs": [],
   "source": [
    "# Get small buildings (from ground truth)\n",
    "small_build_gt = ((gt_area < 115.) & (gt_area > 15)).astype(bool)\n",
    "\n",
    "print('Small gt buildings')\n",
    "plt.imshow(small_build_gt)"
   ]
  },
  {
   "cell_type": "markdown",
   "id": "cedaaf5c",
   "metadata": {},
   "source": [
    "## Helper functions"
   ]
  },
  {
   "cell_type": "code",
   "execution_count": null,
   "id": "933f7402",
   "metadata": {},
   "outputs": [],
   "source": [
    "# Pad small gt buildings\n",
    "def pad_small_buildings(small_build_gt):\n",
    "    # shapely buffer?\n",
    "    pass # TODO"
   ]
  },
  {
   "cell_type": "code",
   "execution_count": null,
   "id": "2af3b9b9",
   "metadata": {},
   "outputs": [],
   "source": [
    "# Get predicted small buildings\n",
    "def get_pred_small_buildings(pred_image):\n",
    "    \n",
    "    # TODO CONVERT TO SHAPELY USING COORDINATES\n",
    "    \n",
    "    # TODO: SEPARATE CLOSELY CONNECTED BUILDINGS\n",
    "    \n",
    "    # TODO: FILTER OUT PREDICTIONS ON ROADS\n",
    "    \n",
    "    labels = measure.label(pred_image)\n",
    "\n",
    "    clusters = []\n",
    "    for i in range(1, len(np.unique(labels))):\n",
    "        clusters.append(np.column_stack(np.where(labels == i)))\n",
    "\n",
    "    pred_small_build = np.zeros_like(pred_image, dtype=float)\n",
    "    for cluster in clusters:\n",
    "        # Get single building array\n",
    "        row_indices, col_indices = cluster\n",
    "        ar = np.zeros((pred_image.shape))\n",
    "        ar[row_indices, col_indices] = 1\n",
    "        \n",
    "        # Measure building area\n",
    "        a = measure.regionprops(ar.astype(np.int32))\n",
    "        # calibrate with gt area measure??\n",
    "        \n",
    "        # \n",
    "        area = None\n",
    "        if THRESH < area < THRESH: # TODO FILTER PREDICTIONS THAT ARE TOO SMALL\n",
    "            for c in cluster:\n",
    "                pred_small_build[c[0], c[1]] = 1.\n",
    "\n",
    "    return pred_small_build # TODO"
   ]
  },
  {
   "cell_type": "markdown",
   "id": "f8a51904",
   "metadata": {},
   "source": [
    "## Main function"
   ]
  },
  {
   "cell_type": "code",
   "execution_count": null,
   "id": "563d87a5",
   "metadata": {},
   "outputs": [],
   "source": [
    "def small_mIOU(self, gt_image, pred_image, gt_area):\n",
    "    len_batch = len(gt_image)\n",
    "    classes = np.unique(gt_image)\n",
    "\n",
    "    mIOU = []\n",
    "\n",
    "    def compute_iou(gt, pred):\n",
    "        overlap = np.sum(np.logical_and(gt, pred))\n",
    "        n_gt = np.sum(gt)\n",
    "        n_pred = np.sum(pred)\n",
    "        return (overlap) / (n_gt + n_pred - overlap)\n",
    "\n",
    "    # Get gt and predictions for each class\n",
    "    bg_gt, bg_pred = (gt_image == 0).astype(np.int32), (pred_image == 0).astype(np.int32)\n",
    "    build_gt, build_pred = (gt_image == 1).astype(np.int32), (pred_image == 1).astype(np.int32)\n",
    "    \n",
    "    # Get TIF from file name, get bounding box\n",
    "    # TODO \n",
    "\n",
    "    # Class 0 (bg) ---------------------\n",
    "    # * Get gt small buildings\n",
    "    small_build_gt = ((gt_area < 115.) & (gt_area > 15)).astype(bool)\n",
    "\n",
    "    # * Pad gt small buildings\n",
    "    padded_small_build_gt = pad_small_buildings(small_build_gt)\n",
    "\n",
    "    # * Get predicted small buildings\n",
    "    small_build_pred = get_pred_small_buildings(build_pred)\n",
    "\n",
    "    # Invert\n",
    "    bg_mask = ((padded_small_build_gt + small_build_pred) > 0)\n",
    "    bg_mask = 1 - bg_mask\n",
    "\n",
    "    # * Mask predictions with padded gt small buildings and predicted small buildings\n",
    "    masked_bg_pred = np.multiply(bg_pred, bg_mask)\n",
    "    masked_bg_gt = np.multiply(bg_gt, bg_mask)\n",
    "\n",
    "    bg_iou = compute_iou(masked_bg_gt, masked_bg_pred)\n",
    "    mIOU.append(bg_iou)\n",
    "\n",
    "    # Class 1 (building) ---------------------\n",
    "    # * Mask predictions with small buildings\n",
    "    small_build_pred = np.multiply(build_pred, small_build_gt)\n",
    "\n",
    "    # * Compute mIOU with adjusted gt/pred\n",
    "    build_iou = compute_iou(small_build_gt, small_build_pred)\n",
    "    mIOU.append(build_iou)\n",
    "\n",
    "    return sum(mIOU) / len(classes)"
   ]
  }
 ],
 "metadata": {
  "kernelspec": {
   "display_name": "Python 3",
   "language": "python",
   "name": "python3"
  },
  "language_info": {
   "codemirror_mode": {
    "name": "ipython",
    "version": 3
   },
   "file_extension": ".py",
   "mimetype": "text/x-python",
   "name": "python",
   "nbconvert_exporter": "python",
   "pygments_lexer": "ipython3",
   "version": "3.8.10"
  }
 },
 "nbformat": 4,
 "nbformat_minor": 5
}
