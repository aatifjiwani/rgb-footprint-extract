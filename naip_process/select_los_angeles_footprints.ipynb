{
 "cells": [
  {
   "cell_type": "code",
   "execution_count": 1,
   "id": "8d833e60",
   "metadata": {},
   "outputs": [],
   "source": [
    "import geopandas as gpd\n",
    "import pandas as pd\n",
    "import numpy as np\n",
    "import os"
   ]
  },
  {
   "cell_type": "code",
   "execution_count": 8,
   "id": "ba129981",
   "metadata": {},
   "outputs": [],
   "source": [
    "fp = '/oak/stanford/groups/deho/building_compliance/los_angeles_naip/2016_rgb_footprint_512/raw_tif/'\n",
    "fp_out = '/oak/stanford/groups/deho/building_compliance/los_angeles_naip/2016_rgb_footprint_512/mask/'"
   ]
  },
  {
   "cell_type": "code",
   "execution_count": 9,
   "id": "95e112d8",
   "metadata": {},
   "outputs": [],
   "source": [
    "with open('data/los_angeles/no_buildings.txt', 'r') as f:\n",
    "    no_buildings = f.readlines()\n",
    "    no_buildings = [line.rstrip() for line in no_buildings]"
   ]
  },
  {
   "cell_type": "code",
   "execution_count": 10,
   "id": "a04af212",
   "metadata": {},
   "outputs": [
    {
     "data": {
      "text/plain": [
       "3412"
      ]
     },
     "execution_count": 10,
     "metadata": {},
     "output_type": "execute_result"
    }
   ],
   "source": [
    "len(no_buildings)"
   ]
  },
  {
   "cell_type": "code",
   "execution_count": 11,
   "id": "27103c46",
   "metadata": {},
   "outputs": [
    {
     "data": {
      "text/plain": [
       "2783"
      ]
     },
     "execution_count": 11,
     "metadata": {},
     "output_type": "execute_result"
    }
   ],
   "source": [
    "len(os.listdir(fp_out))"
   ]
  },
  {
   "cell_type": "markdown",
   "id": "3bd78d75",
   "metadata": {},
   "source": [
    "## Investigate the LA footprint dataset from 2017\n",
    "\n",
    "The change file contains the building footprints from 2014 that were modified, so this is not needed"
   ]
  },
  {
   "cell_type": "code",
   "execution_count": 2,
   "id": "db4efb19",
   "metadata": {},
   "outputs": [],
   "source": [
    "fp = '/oak/stanford/groups/deho/building_compliance/LA_County_Building_Footprints_2017/'"
   ]
  },
  {
   "cell_type": "code",
   "execution_count": 9,
   "id": "59ffa22b",
   "metadata": {},
   "outputs": [],
   "source": [
    "original = gpd.read_file(os.path.join(fp, 'Countywide_Building_Outlines_(2017).geojson'))"
   ]
  },
  {
   "cell_type": "code",
   "execution_count": 10,
   "id": "bc018af0",
   "metadata": {},
   "outputs": [
    {
     "data": {
      "text/plain": [
       "Index(['OBJECTID', 'CODE', 'BLD_ID', 'HEIGHT', 'ELEV', 'SOURCE', 'DATE_',\n",
       "       'STATUS', 'OLD_BLD_ID', 'AREA', 'SHAPE_Length', 'SHAPE_Area',\n",
       "       'geometry'],\n",
       "      dtype='object')"
      ]
     },
     "execution_count": 10,
     "metadata": {},
     "output_type": "execute_result"
    }
   ],
   "source": [
    "original.columns"
   ]
  },
  {
   "cell_type": "markdown",
   "id": "9b62da2a",
   "metadata": {},
   "source": [
    "- LARIAC2: 2008 acquisition -- the majority of buildings have not changed\n",
    "- LARIAC4: 2014\n",
    "- LARIAC5: 2017\n",
    "\n",
    "- STATUS: new in LARIAC5 does not necessarily mean that the building is newly built, but rather than the footprint is newly added (although it could definitely mean the former)"
   ]
  },
  {
   "cell_type": "code",
   "execution_count": 53,
   "id": "de7fb311",
   "metadata": {
    "scrolled": true
   },
   "outputs": [
    {
     "data": {
      "text/plain": [
       "LARIAC2                   2525887\n",
       "LARIAC5                    380885\n",
       "LARIAC4                    172877\n",
       "Pasadena                   102449\n",
       "Glendale: Merrick & Co      39939\n",
       "LARIAC 2006 4-in            32504\n",
       "Glendale: LARIAC2            8099\n",
       "Name: SOURCE, dtype: int64"
      ]
     },
     "execution_count": 53,
     "metadata": {},
     "output_type": "execute_result"
    }
   ],
   "source": [
    "original['SOURCE'].value_counts()"
   ]
  },
  {
   "cell_type": "code",
   "execution_count": 54,
   "id": "727d729f",
   "metadata": {
    "scrolled": true
   },
   "outputs": [
    {
     "data": {
      "text/html": [
       "<div>\n",
       "<style scoped>\n",
       "    .dataframe tbody tr th:only-of-type {\n",
       "        vertical-align: middle;\n",
       "    }\n",
       "\n",
       "    .dataframe tbody tr th {\n",
       "        vertical-align: top;\n",
       "    }\n",
       "\n",
       "    .dataframe thead th {\n",
       "        text-align: right;\n",
       "    }\n",
       "</style>\n",
       "<table border=\"1\" class=\"dataframe\">\n",
       "  <thead>\n",
       "    <tr style=\"text-align: right;\">\n",
       "      <th></th>\n",
       "      <th>OBJECTID</th>\n",
       "      <th>CODE</th>\n",
       "      <th>BLD_ID</th>\n",
       "      <th>HEIGHT</th>\n",
       "      <th>ELEV</th>\n",
       "      <th>SOURCE</th>\n",
       "      <th>DATE_</th>\n",
       "      <th>STATUS</th>\n",
       "      <th>OLD_BLD_ID</th>\n",
       "      <th>AREA</th>\n",
       "      <th>SHAPE_Length</th>\n",
       "      <th>SHAPE_Area</th>\n",
       "      <th>geometry</th>\n",
       "    </tr>\n",
       "  </thead>\n",
       "  <tbody>\n",
       "    <tr>\n",
       "      <th>191</th>\n",
       "      <td>192</td>\n",
       "      <td>Building</td>\n",
       "      <td>201700191458</td>\n",
       "      <td>14.0764</td>\n",
       "      <td>2441.607267</td>\n",
       "      <td>LARIAC5</td>\n",
       "      <td>2017</td>\n",
       "      <td>New</td>\n",
       "      <td>None</td>\n",
       "      <td>479.228247</td>\n",
       "      <td>0.000270</td>\n",
       "      <td>4.384342e-09</td>\n",
       "      <td>MULTIPOLYGON (((-118.28347 34.76224, -118.2835...</td>\n",
       "    </tr>\n",
       "    <tr>\n",
       "      <th>192</th>\n",
       "      <td>193</td>\n",
       "      <td>Building</td>\n",
       "      <td>201700191459</td>\n",
       "      <td>21.8400</td>\n",
       "      <td>2451.560000</td>\n",
       "      <td>LARIAC5</td>\n",
       "      <td>2017</td>\n",
       "      <td>Modified</td>\n",
       "      <td>476077099936</td>\n",
       "      <td>3402.833449</td>\n",
       "      <td>0.000912</td>\n",
       "      <td>3.113170e-08</td>\n",
       "      <td>MULTIPOLYGON (((-118.28494 34.76243, -118.2849...</td>\n",
       "    </tr>\n",
       "    <tr>\n",
       "      <th>193</th>\n",
       "      <td>194</td>\n",
       "      <td>Building</td>\n",
       "      <td>201700191460</td>\n",
       "      <td>9.1749</td>\n",
       "      <td>2364.069897</td>\n",
       "      <td>LARIAC5</td>\n",
       "      <td>2017</td>\n",
       "      <td>New</td>\n",
       "      <td>None</td>\n",
       "      <td>369.857773</td>\n",
       "      <td>0.000234</td>\n",
       "      <td>3.383713e-09</td>\n",
       "      <td>MULTIPOLYGON (((-117.95152 34.76276, -117.9515...</td>\n",
       "    </tr>\n",
       "    <tr>\n",
       "      <th>194</th>\n",
       "      <td>195</td>\n",
       "      <td>Building</td>\n",
       "      <td>201700191461</td>\n",
       "      <td>10.8125</td>\n",
       "      <td>2317.453179</td>\n",
       "      <td>LARIAC5</td>\n",
       "      <td>2017</td>\n",
       "      <td>New</td>\n",
       "      <td>None</td>\n",
       "      <td>296.054795</td>\n",
       "      <td>0.000210</td>\n",
       "      <td>2.708560e-09</td>\n",
       "      <td>MULTIPOLYGON (((-118.16211 34.76287, -118.1621...</td>\n",
       "    </tr>\n",
       "    <tr>\n",
       "      <th>195</th>\n",
       "      <td>196</td>\n",
       "      <td>Building</td>\n",
       "      <td>201700191462</td>\n",
       "      <td>9.4900</td>\n",
       "      <td>2431.180000</td>\n",
       "      <td>LARIAC5</td>\n",
       "      <td>2017</td>\n",
       "      <td>Modified</td>\n",
       "      <td>477460100035</td>\n",
       "      <td>321.684025</td>\n",
       "      <td>0.000222</td>\n",
       "      <td>2.943015e-09</td>\n",
       "      <td>MULTIPOLYGON (((-118.28038 34.76260, -118.2804...</td>\n",
       "    </tr>\n",
       "    <tr>\n",
       "      <th>...</th>\n",
       "      <td>...</td>\n",
       "      <td>...</td>\n",
       "      <td>...</td>\n",
       "      <td>...</td>\n",
       "      <td>...</td>\n",
       "      <td>...</td>\n",
       "      <td>...</td>\n",
       "      <td>...</td>\n",
       "      <td>...</td>\n",
       "      <td>...</td>\n",
       "      <td>...</td>\n",
       "      <td>...</td>\n",
       "      <td>...</td>\n",
       "    </tr>\n",
       "    <tr>\n",
       "      <th>3262635</th>\n",
       "      <td>3262636</td>\n",
       "      <td>Building</td>\n",
       "      <td>201700194794</td>\n",
       "      <td>18.3300</td>\n",
       "      <td>3643.940000</td>\n",
       "      <td>LARIAC5</td>\n",
       "      <td>2017</td>\n",
       "      <td>Modified</td>\n",
       "      <td>528284985731</td>\n",
       "      <td>3454.282781</td>\n",
       "      <td>0.000821</td>\n",
       "      <td>3.148455e-08</td>\n",
       "      <td>MULTIPOLYGON (((-118.11071 34.44893, -118.1106...</td>\n",
       "    </tr>\n",
       "    <tr>\n",
       "      <th>3262636</th>\n",
       "      <td>3262637</td>\n",
       "      <td>Building</td>\n",
       "      <td>201700194795</td>\n",
       "      <td>13.9250</td>\n",
       "      <td>3150.420684</td>\n",
       "      <td>LARIAC5</td>\n",
       "      <td>2017</td>\n",
       "      <td>New</td>\n",
       "      <td>None</td>\n",
       "      <td>307.492951</td>\n",
       "      <td>0.000213</td>\n",
       "      <td>2.802999e-09</td>\n",
       "      <td>MULTIPOLYGON (((-118.16682 34.45817, -118.1668...</td>\n",
       "    </tr>\n",
       "    <tr>\n",
       "      <th>3262637</th>\n",
       "      <td>3262638</td>\n",
       "      <td>Building</td>\n",
       "      <td>201700194796</td>\n",
       "      <td>20.2400</td>\n",
       "      <td>3060.570000</td>\n",
       "      <td>LARIAC5</td>\n",
       "      <td>2017</td>\n",
       "      <td>Modified</td>\n",
       "      <td>2014175190000</td>\n",
       "      <td>9163.545106</td>\n",
       "      <td>0.001727</td>\n",
       "      <td>8.353382e-08</td>\n",
       "      <td>MULTIPOLYGON (((-118.16446 34.46047, -118.1644...</td>\n",
       "    </tr>\n",
       "    <tr>\n",
       "      <th>3262638</th>\n",
       "      <td>3262639</td>\n",
       "      <td>Building</td>\n",
       "      <td>201700194797</td>\n",
       "      <td>15.6000</td>\n",
       "      <td>3332.572777</td>\n",
       "      <td>LARIAC5</td>\n",
       "      <td>2017</td>\n",
       "      <td>New</td>\n",
       "      <td>None</td>\n",
       "      <td>314.902875</td>\n",
       "      <td>0.000222</td>\n",
       "      <td>2.871037e-09</td>\n",
       "      <td>MULTIPOLYGON (((-118.02339 34.47245, -118.0234...</td>\n",
       "    </tr>\n",
       "    <tr>\n",
       "      <th>3262639</th>\n",
       "      <td>3262640</td>\n",
       "      <td>Building</td>\n",
       "      <td>201700194798</td>\n",
       "      <td>11.9366</td>\n",
       "      <td>3310.017776</td>\n",
       "      <td>LARIAC5</td>\n",
       "      <td>2017</td>\n",
       "      <td>New</td>\n",
       "      <td>None</td>\n",
       "      <td>397.561784</td>\n",
       "      <td>0.000242</td>\n",
       "      <td>3.624889e-09</td>\n",
       "      <td>MULTIPOLYGON (((-118.02454 34.47810, -118.0246...</td>\n",
       "    </tr>\n",
       "  </tbody>\n",
       "</table>\n",
       "<p>380885 rows × 13 columns</p>\n",
       "</div>"
      ],
      "text/plain": [
       "         OBJECTID      CODE        BLD_ID   HEIGHT         ELEV   SOURCE  \\\n",
       "191           192  Building  201700191458  14.0764  2441.607267  LARIAC5   \n",
       "192           193  Building  201700191459  21.8400  2451.560000  LARIAC5   \n",
       "193           194  Building  201700191460   9.1749  2364.069897  LARIAC5   \n",
       "194           195  Building  201700191461  10.8125  2317.453179  LARIAC5   \n",
       "195           196  Building  201700191462   9.4900  2431.180000  LARIAC5   \n",
       "...           ...       ...           ...      ...          ...      ...   \n",
       "3262635   3262636  Building  201700194794  18.3300  3643.940000  LARIAC5   \n",
       "3262636   3262637  Building  201700194795  13.9250  3150.420684  LARIAC5   \n",
       "3262637   3262638  Building  201700194796  20.2400  3060.570000  LARIAC5   \n",
       "3262638   3262639  Building  201700194797  15.6000  3332.572777  LARIAC5   \n",
       "3262639   3262640  Building  201700194798  11.9366  3310.017776  LARIAC5   \n",
       "\n",
       "        DATE_    STATUS     OLD_BLD_ID         AREA  SHAPE_Length  \\\n",
       "191      2017       New           None   479.228247      0.000270   \n",
       "192      2017  Modified   476077099936  3402.833449      0.000912   \n",
       "193      2017       New           None   369.857773      0.000234   \n",
       "194      2017       New           None   296.054795      0.000210   \n",
       "195      2017  Modified   477460100035   321.684025      0.000222   \n",
       "...       ...       ...            ...          ...           ...   \n",
       "3262635  2017  Modified   528284985731  3454.282781      0.000821   \n",
       "3262636  2017       New           None   307.492951      0.000213   \n",
       "3262637  2017  Modified  2014175190000  9163.545106      0.001727   \n",
       "3262638  2017       New           None   314.902875      0.000222   \n",
       "3262639  2017       New           None   397.561784      0.000242   \n",
       "\n",
       "           SHAPE_Area                                           geometry  \n",
       "191      4.384342e-09  MULTIPOLYGON (((-118.28347 34.76224, -118.2835...  \n",
       "192      3.113170e-08  MULTIPOLYGON (((-118.28494 34.76243, -118.2849...  \n",
       "193      3.383713e-09  MULTIPOLYGON (((-117.95152 34.76276, -117.9515...  \n",
       "194      2.708560e-09  MULTIPOLYGON (((-118.16211 34.76287, -118.1621...  \n",
       "195      2.943015e-09  MULTIPOLYGON (((-118.28038 34.76260, -118.2804...  \n",
       "...               ...                                                ...  \n",
       "3262635  3.148455e-08  MULTIPOLYGON (((-118.11071 34.44893, -118.1106...  \n",
       "3262636  2.802999e-09  MULTIPOLYGON (((-118.16682 34.45817, -118.1668...  \n",
       "3262637  8.353382e-08  MULTIPOLYGON (((-118.16446 34.46047, -118.1644...  \n",
       "3262638  2.871037e-09  MULTIPOLYGON (((-118.02339 34.47245, -118.0234...  \n",
       "3262639  3.624889e-09  MULTIPOLYGON (((-118.02454 34.47810, -118.0246...  \n",
       "\n",
       "[380885 rows x 13 columns]"
      ]
     },
     "execution_count": 54,
     "metadata": {},
     "output_type": "execute_result"
    }
   ],
   "source": [
    "original[original['SOURCE'] == 'LARIAC5']"
   ]
  },
  {
   "cell_type": "markdown",
   "id": "48c7bb26",
   "metadata": {},
   "source": [
    "There could be duplicate BLD_ID, all of them are from 2014 it seems -- they correspond to **different** buildings, so don't discard"
   ]
  },
  {
   "cell_type": "code",
   "execution_count": 49,
   "id": "ad295035",
   "metadata": {
    "scrolled": true
   },
   "outputs": [],
   "source": [
    "o = original['BLD_ID'].value_counts()"
   ]
  },
  {
   "cell_type": "code",
   "execution_count": 50,
   "id": "dbecda2d",
   "metadata": {},
   "outputs": [
    {
     "data": {
      "text/plain": [
       "2014151251030000    2\n",
       "2014151253310000    2\n",
       "2014151253180000    2\n",
       "2014151253220000    2\n",
       "2014151244540000    2\n",
       "                   ..\n",
       "2014151256280000    2\n",
       "2014151258760000    2\n",
       "2014151258790000    2\n",
       "2014151258800000    2\n",
       "2014151256290000    2\n",
       "Name: BLD_ID, Length: 950, dtype: int64"
      ]
     },
     "execution_count": 50,
     "metadata": {},
     "output_type": "execute_result"
    }
   ],
   "source": [
    "o[o>1]"
   ]
  },
  {
   "cell_type": "code",
   "execution_count": null,
   "id": "0835d110",
   "metadata": {},
   "outputs": [],
   "source": [
    "original[original['BLD_ID'] == '2014151258760000']"
   ]
  },
  {
   "cell_type": "markdown",
   "id": "aa8315f1",
   "metadata": {},
   "source": [
    "# See if footprint data actually captures ADUs\n",
    "\n",
    "It does! Pretty well too"
   ]
  },
  {
   "cell_type": "code",
   "execution_count": 3,
   "id": "7912fdcd",
   "metadata": {},
   "outputs": [],
   "source": [
    "from shapely.geometry import box, Point"
   ]
  },
  {
   "cell_type": "code",
   "execution_count": 62,
   "id": "1390a5b3",
   "metadata": {},
   "outputs": [],
   "source": [
    "small_box = box(-118.32214889946084, 33.95636717424377, -118.31886643950786, 33.95801022890701)"
   ]
  },
  {
   "cell_type": "code",
   "execution_count": 64,
   "id": "8c300b36",
   "metadata": {},
   "outputs": [],
   "source": [
    "test_adu = gpd.read_file(os.path.join(fp, 'Countywide_Building_Outlines_(2017).geojson'), bbox=small_box)"
   ]
  },
  {
   "cell_type": "code",
   "execution_count": 67,
   "id": "48d221da",
   "metadata": {},
   "outputs": [
    {
     "name": "stderr",
     "output_type": "stream",
     "text": [
      "<ipython-input-67-cb9d9d49f925>:1: UserWarning: Column names longer than 10 characters will be truncated when saved to ESRI Shapefile.\n",
      "  test_adu.to_file('test_adu_la')\n"
     ]
    }
   ],
   "source": [
    "test_adu.to_file('test_adu_la')"
   ]
  },
  {
   "cell_type": "code",
   "execution_count": 65,
   "id": "e569b3c7",
   "metadata": {},
   "outputs": [
    {
     "data": {
      "text/plain": [
       "104"
      ]
     },
     "execution_count": 65,
     "metadata": {},
     "output_type": "execute_result"
    }
   ],
   "source": [
    "len(test_adu)"
   ]
  },
  {
   "cell_type": "markdown",
   "id": "1dcf6caa",
   "metadata": {},
   "source": [
    "# Subset building footprints to 4 areas\n",
    "- South LA\n",
    "- Torrance/Long Beach\n",
    "- Valley\n",
    "- Mid-Wilshire ish"
   ]
  },
  {
   "cell_type": "code",
   "execution_count": 4,
   "id": "e4134064",
   "metadata": {},
   "outputs": [],
   "source": [
    "south_la = box(-118.36618406252838, 33.92399439434224, -118.24340101311658, 34.01043519525057)\n",
    "mid_wilshire = box(-118.42264979853323, 34.020425261173386, -118.3274039386137, 34.051457250941674)\n",
    "torrance = box(-118.38894671860481, 33.76190036981278, -118.26456955803374, 33.837507964798)\n",
    "valley = box(-118.5947617037504, 34.1518934898276, -118.40286108520485, 34.278004449211494)"
   ]
  },
  {
   "cell_type": "code",
   "execution_count": 5,
   "id": "f5eb4f7f",
   "metadata": {},
   "outputs": [],
   "source": [
    "from shapely.ops import unary_union\n",
    "\n",
    "multipol = unary_union([south_la, mid_wilshire, torrance, valley])"
   ]
  },
  {
   "cell_type": "code",
   "execution_count": 6,
   "id": "c63cb363",
   "metadata": {},
   "outputs": [],
   "source": [
    "select_footprints = test_adu = gpd.read_file(os.path.join(fp, 'Countywide_Building_Outlines_(2017).geojson'), mask=multipol)"
   ]
  },
  {
   "cell_type": "code",
   "execution_count": 7,
   "id": "5a1b47d6",
   "metadata": {},
   "outputs": [
    {
     "data": {
      "text/plain": [
       "587652"
      ]
     },
     "execution_count": 7,
     "metadata": {},
     "output_type": "execute_result"
    }
   ],
   "source": [
    "len(select_footprints)"
   ]
  },
  {
   "cell_type": "code",
   "execution_count": 8,
   "id": "16d20cf4",
   "metadata": {},
   "outputs": [],
   "source": [
    "# MOVED TO OAK\n",
    "select_footprints.to_file('data/los_angeles/la_select_footprints.geojson', driver='GeoJSON')"
   ]
  },
  {
   "cell_type": "code",
   "execution_count": null,
   "id": "0f6dcd5e",
   "metadata": {},
   "outputs": [],
   "source": []
  }
 ],
 "metadata": {
  "kernelspec": {
   "display_name": "Python 3",
   "language": "python",
   "name": "python3"
  },
  "language_info": {
   "codemirror_mode": {
    "name": "ipython",
    "version": 3
   },
   "file_extension": ".py",
   "mimetype": "text/x-python",
   "name": "python",
   "nbconvert_exporter": "python",
   "pygments_lexer": "ipython3",
   "version": "3.8.10"
  }
 },
 "nbformat": 4,
 "nbformat_minor": 5
}
