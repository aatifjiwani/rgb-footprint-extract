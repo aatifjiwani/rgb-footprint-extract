{
 "cells": [
  {
   "cell_type": "code",
   "execution_count": 1,
   "id": "a5b0d9ef",
   "metadata": {},
   "outputs": [],
   "source": [
    "import os\n",
    "import numpy as np\n",
    "import shutil\n",
    "from tqdm import tqdm\n",
    "import rasterio"
   ]
  },
  {
   "cell_type": "code",
   "execution_count": 2,
   "id": "26ac9e7d",
   "metadata": {},
   "outputs": [],
   "source": [
    "fp = '/oak/stanford/groups/deho/building_compliance/los_angeles_naip/2016_rgb_footprint_512_v2/train/masks'"
   ]
  },
  {
   "cell_type": "code",
   "execution_count": 6,
   "id": "15572d6f",
   "metadata": {
    "scrolled": true
   },
   "outputs": [
    {
     "data": {
      "text/plain": [
       "5040"
      ]
     },
     "execution_count": 6,
     "metadata": {},
     "output_type": "execute_result"
    }
   ],
   "source": [
    "len(os.listdir(fp))"
   ]
  },
  {
   "cell_type": "code",
   "execution_count": 13,
   "id": "5cd5ca11",
   "metadata": {},
   "outputs": [],
   "source": [
    "im = np.load('../sj_naip_subset.npy')"
   ]
  },
  {
   "cell_type": "code",
   "execution_count": 14,
   "id": "7d36b56e",
   "metadata": {},
   "outputs": [],
   "source": [
    "from PIL import Image\n",
    "im = Image.fromarray(im)\n",
    "im.save('../sj_naip_subset.png')"
   ]
  },
  {
   "cell_type": "markdown",
   "id": "9d16d4a4",
   "metadata": {},
   "source": [
    "Rename all images in masks/ from .npy to _mask.npy"
   ]
  },
  {
   "cell_type": "code",
   "execution_count": 5,
   "id": "1cf47b96",
   "metadata": {},
   "outputs": [],
   "source": [
    "for filename in os.listdir(f'{fp}masks/'):\n",
    "    filename1 = filename.replace(\".npy\", \"_mask.npy\")\n",
    "    src =f\"{fp}masks/{filename}\"  # foldername/filename, if .py file is outside folder\n",
    "    dst =f\"{fp}masks/{filename1}\"\n",
    "    os.rename(src, dst)"
   ]
  },
  {
   "cell_type": "markdown",
   "id": "a139bc56",
   "metadata": {},
   "source": [
    "Make a train folder"
   ]
  },
  {
   "cell_type": "code",
   "execution_count": 8,
   "id": "f804b8f1",
   "metadata": {},
   "outputs": [],
   "source": [
    "if not os.path.exists(os.path.join(fp, 'train')):\n",
    "    os.mkdir(os.path.join(fp, 'train'))\n",
    "#     os.mkdir(os.path.join(fp, 'train', 'raw_tif'))"
   ]
  },
  {
   "cell_type": "code",
   "execution_count": 9,
   "id": "9c3b73a4",
   "metadata": {},
   "outputs": [
    {
     "data": {
      "text/plain": [
       "'/oak/stanford/groups/deho/building_compliance/los_angeles_naip/2016_rgb_footprint_512/train/masks'"
      ]
     },
     "execution_count": 9,
     "metadata": {},
     "output_type": "execute_result"
    }
   ],
   "source": [
    "shutil.move(os.path.join(fp, 'images'), os.path.join(fp, 'train'))\n",
    "shutil.move(os.path.join(fp, 'masks'), os.path.join(fp, 'train'))\n",
    "# shutil.move(os.path.join(fp, 'raw_tif'), os.path.join(fp, 'train'))"
   ]
  },
  {
   "cell_type": "markdown",
   "id": "15898f8c",
   "metadata": {},
   "source": [
    "Train-val-test split"
   ]
  },
  {
   "cell_type": "code",
   "execution_count": 12,
   "id": "7375eff0",
   "metadata": {},
   "outputs": [],
   "source": [
    "def train_val_split(root_dir, save_dir, train_percent):\n",
    "    if not os.path.exists(save_dir):\n",
    "        os.mkdir(os.path.join(save_dir))\n",
    "        os.mkdir(os.path.join(save_dir, 'images'))\n",
    "        os.mkdir(os.path.join(save_dir, 'masks'))\n",
    "    \n",
    "    all_images = list(os.listdir(os.path.join(root_dir, \"images\")))\n",
    "    np.random.shuffle(all_images)\n",
    "\n",
    "    num_train = int(len(all_images) * train_percent)\n",
    "    val_images = all_images[num_train:]\n",
    "\n",
    "    for img in tqdm(val_images):\n",
    "        shutil.move(os.path.join(root_dir, \"images\", img), os.path.join(save_dir, \"images\"))\n",
    "        shutil.move(os.path.join(root_dir, \"masks\", img.replace(\".npy\", \"_mask.npy\")), os.path.join(save_dir, \"masks\"))"
   ]
  },
  {
   "cell_type": "code",
   "execution_count": 13,
   "id": "1ffbbe80",
   "metadata": {},
   "outputs": [
    {
     "name": "stderr",
     "output_type": "stream",
     "text": [
      "100%|██████████| 627/627 [00:19<00:00, 32.44it/s]\n"
     ]
    }
   ],
   "source": [
    "train_val_split(os.path.join(fp, 'train'), os.path.join(fp, 'test'), 0.9)"
   ]
  },
  {
   "cell_type": "code",
   "execution_count": 14,
   "id": "929e089d",
   "metadata": {},
   "outputs": [
    {
     "name": "stderr",
     "output_type": "stream",
     "text": [
      "100%|██████████| 565/565 [00:18<00:00, 31.02it/s]\n"
     ]
    }
   ],
   "source": [
    "train_val_split(os.path.join(fp, 'train'), os.path.join(fp, 'val'), 0.9)"
   ]
  },
  {
   "cell_type": "markdown",
   "id": "7e89b190",
   "metadata": {},
   "source": [
    "copy everything to combined dataset"
   ]
  },
  {
   "cell_type": "code",
   "execution_count": 2,
   "id": "39aa85b8",
   "metadata": {},
   "outputs": [],
   "source": [
    "fp = '/oak/stanford/groups/deho/building_compliance/rgb-footprint-extract/'"
   ]
  },
  {
   "cell_type": "code",
   "execution_count": 3,
   "id": "7e24876b",
   "metadata": {},
   "outputs": [],
   "source": [
    "if not os.path.exists(fp):\n",
    "    os.mkdir(fp)\n",
    "    os.mkdir(os.path.join(fp, 'sj+la'))\n",
    "    for i in ['train', 'test', 'val']:\n",
    "        os.mkdir(os.path.join(fp, 'sj+la', i))\n",
    "        os.mkdir(os.path.join(fp, 'sj+la', i, 'images'))\n",
    "        os.mkdir(os.path.join(fp, 'sj+la', i, 'masks'))\n",
    "        os.mkdir(os.path.join(fp, 'sj+la', i, 'masks_wt'))\n"
   ]
  },
  {
   "cell_type": "code",
   "execution_count": 6,
   "id": "3d4139b3",
   "metadata": {},
   "outputs": [],
   "source": [
    "source_folder = '/oak/stanford/groups/deho/building_compliance/los_angeles_naip/2016_rgb_footprint_512/'"
   ]
  },
  {
   "cell_type": "code",
   "execution_count": 8,
   "id": "9baebb6b",
   "metadata": {},
   "outputs": [],
   "source": [
    "for i in ['train', 'test', 'val']:\n",
    "    for j in ['images', 'masks', 'masks_wt']:\n",
    "        for fn in os.listdir(os.path.join(source_folder, i, j)):\n",
    "            shutil.copy(os.path.join(source_folder, i, j, fn), os.path.join(fp, 'sj+la', i, j, fn))"
   ]
  },
  {
   "cell_type": "code",
   "execution_count": null,
   "id": "6a6cffa9",
   "metadata": {},
   "outputs": [],
   "source": [
    "for file_name in os.listdir(source_folder):\n",
    "    # construct full file path\n",
    "    source = source_folder + file_name\n",
    "    destination = destination_folder + file_name\n",
    "    # copy only files\n",
    "    if os.path.isfile(source):\n",
    "        shutil.copy(source, destination)\n",
    "        print('copied', file_name)"
   ]
  }
 ],
 "metadata": {
  "kernelspec": {
   "display_name": "Python 3",
   "language": "python",
   "name": "python3"
  },
  "language_info": {
   "codemirror_mode": {
    "name": "ipython",
    "version": 3
   },
   "file_extension": ".py",
   "mimetype": "text/x-python",
   "name": "python",
   "nbconvert_exporter": "python",
   "pygments_lexer": "ipython3",
   "version": "3.8.10"
  }
 },
 "nbformat": 4,
 "nbformat_minor": 5
}
