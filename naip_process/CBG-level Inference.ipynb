{
 "cells": [
  {
   "cell_type": "code",
   "execution_count": 1,
   "id": "aae33b4e",
   "metadata": {},
   "outputs": [],
   "source": [
    "import geopandas as gpd\n",
    "import glob\n",
    "import matplotlib.pyplot as plt\n",
    "import numpy as np\n",
    "import os\n",
    "import pandas as pd\n",
    "import rasterio\n",
    "import rasterio.features\n",
    "import shapely\n",
    "from shapely.geometry import box, Polygon\n",
    "from tqdm import tqdm"
   ]
  },
  {
   "cell_type": "code",
   "execution_count": 2,
   "id": "4b4a2726",
   "metadata": {},
   "outputs": [],
   "source": [
    "tqdm.pandas()"
   ]
  },
  {
   "cell_type": "markdown",
   "id": "ac0a1782",
   "metadata": {},
   "source": [
    "# 1. Functions"
   ]
  },
  {
   "cell_type": "code",
   "execution_count": 3,
   "id": "e274b132",
   "metadata": {},
   "outputs": [],
   "source": [
    "def viz(cbg_sj, cbg_footprints, column, fp):\n",
    "\n",
    "    # plot shapefile using the inferred area as the label for each CBG\n",
    "    plt.clf()\n",
    "    fig = plt.figure(figsize=(15, 15))\n",
    "    ax = fig.gca()\n",
    "    ax.set_aspect('equal')\n",
    "    cbg_sj.plot(ax=ax, zorder=1, color='white', edgecolor=\"black\")\n",
    "    cbg_footprints.loc[cbg_footprints[column] == 1].plot(column='area', zorder=2, ax=ax, legend=True)\n",
    "    plt.savefig(os.path.join(fp, 'outputs', 'plot_{}.png'.format(column)))"
   ]
  },
  {
   "cell_type": "code",
   "execution_count": 4,
   "id": "9cad2287",
   "metadata": {},
   "outputs": [],
   "source": [
    "def get_footprint_gpd(mask, file_name, size):\n",
    "    \"\"\"\n",
    "    Converts predictions from np.array to shapely polygons\n",
    "    :param mask: (np.array) Footprint mask from which to generate the polygons\n",
    "    :param file_name: (str) Name of the TIF file \n",
    "    :param size: (int) Resolution size [512, 1024]\n",
    "    :return: (gpd.GeoDataFrame)\n",
    "    \"\"\"\n",
    "\n",
    "    with rasterio.open(os.path.join(TIF_FP, f'{file_name}.tif')) as ds:\n",
    "        t = ds.transform\n",
    "\n",
    "    # Adjust for resolution\n",
    "    if size == 512:\n",
    "        factor = 1\n",
    "    elif size == 1024:\n",
    "        factor = 2\n",
    "    elif size == 512 * 4:\n",
    "        factor = 4 # CHECK\n",
    "    else:\n",
    "        raise NotImplemented('[ERROR] GPD Footprint --- Check resolution')\n",
    "\n",
    "    shapes = rasterio.features.shapes(mask, connectivity=4)\n",
    "    polygons = [shapely.geometry.Polygon(shape[0][\"coordinates\"][0]) for shape in shapes if shape[1] == 1]\n",
    "    polygons = [shapely.affinity.affine_transform(geom, [t.a / factor, t.b, t.d, t.e / factor, t.xoff, t.yoff]) for geom\n",
    "                in polygons]\n",
    "    buildings = gpd.GeoDataFrame(geometry=polygons, crs='EPSG:26910')\n",
    "    buildings = buildings.to_crs('EPSG:4326')\n",
    "    return buildings"
   ]
  },
  {
   "cell_type": "code",
   "execution_count": 5,
   "id": "686795e5",
   "metadata": {},
   "outputs": [],
   "source": [
    "def collect_inferences(inferences_dir, size):\n",
    "    inference_files = glob.glob(os.path.join(inferences_dir, '*.npy'))\n",
    "    building_footprints = gpd.GeoDataFrame()\n",
    "    for inference_file in tqdm(inference_files):\n",
    "        file_name = inference_file.split(os.path.sep)[-1].replace('.npy', '')\n",
    "        mask = np.load(inference_file)\n",
    "        tile_buildings = get_footprint_gpd(mask, file_name, size)\n",
    "        tile_buildings['tile'] = inference_file\n",
    "        building_footprints = pd.concat([building_footprints, tile_buildings])\n",
    "\n",
    "    return building_footprints"
   ]
  },
  {
   "cell_type": "code",
   "execution_count": 6,
   "id": "19a217a3",
   "metadata": {},
   "outputs": [],
   "source": [
    "def assign_cbgs(building_footprints, cbg_sj):\n",
    "    # Assign buildings to San Jose CBGs\n",
    "    building_footprints = building_footprints.to_crs(cbg_sj.crs)\n",
    "    building_footprints_cbg = gpd.sjoin(\n",
    "        cbg_sj[['GEOID', 'geometry']], building_footprints, \n",
    "        how='right', predicate='contains')\n",
    "\n",
    "    # Drop buildings outside of San Jose\n",
    "    building_footprints_cbg = building_footprints_cbg.dropna(axis=0, subset=['GEOID'])\n",
    "    return building_footprints_cbg"
   ]
  },
  {
   "cell_type": "code",
   "execution_count": 7,
   "id": "76aaecd5",
   "metadata": {},
   "outputs": [],
   "source": [
    "def process_buildings(building_footprints, zoning, sj_crs, verbose=True):\n",
    "    # Merge buildings to connect buildings on tile edges\n",
    "    if verbose:\n",
    "        print('[INFO] Processing: Merging buildings on tile edges')\n",
    "    geoms = building_footprints.geometry.unary_union\n",
    "    building_footprints = gpd.GeoDataFrame(geometry=[geoms], crs='EPSG:4326')\n",
    "    building_footprints = building_footprints.explode(index_parts=True).reset_index(drop=True)\n",
    "\n",
    "    # Separate buildings\n",
    "    if verbose:\n",
    "        print('[INFO] Processing: Separating buildings')\n",
    "    building_footprints = building_footprints.to_crs(crs=3857)\n",
    "    if verbose:\n",
    "        building_footprints.geometry = building_footprints.geometry.progress_apply(lambda x: x.buffer(-2))\n",
    "    else:\n",
    "        building_footprints.geometry = building_footprints.geometry.buffer(-2)\n",
    "    building_footprints = building_footprints.explode(index_parts=False)\n",
    "    if verbose:\n",
    "        building_footprints.geometry = building_footprints.geometry.progress_apply(lambda x: x.buffer(2))\n",
    "    else:\n",
    "        building_footprints.geometry = building_footprints.geometry.buffer(2)\n",
    "    building_footprints = building_footprints.to_crs(sj_crs)\n",
    "\n",
    "    # Remove predictions on roads\n",
    "    if verbose:\n",
    "        print('[INFO] Processing: Removing predictions on roads')\n",
    "    building_footprints = gpd.clip(building_footprints, zoning)\n",
    "\n",
    "    return building_footprints"
   ]
  },
  {
   "cell_type": "code",
   "execution_count": 8,
   "id": "70cd10c3",
   "metadata": {},
   "outputs": [],
   "source": [
    "def compute_area(building_footprints, small_upper_threshold, large_upper_threshold, sj_crs):\n",
    "    # Compute building area\n",
    "    building_footprints = building_footprints.to_crs(crs=3857)\n",
    "    building_footprints['area'] = building_footprints.area\n",
    "    \n",
    "    # Filter for buildings that are too small or too large\n",
    "    building_footprints = building_footprints.loc[building_footprints['area'] > 15]\n",
    "    if large_upper_threshold:\n",
    "        building_footprints = building_footprints.loc[building_footprints['area'] < large_upper_threshold]\n",
    "\n",
    "    # Define small/large buildings\n",
    "    # add up sqft/m^2 for just small buildings, or for both large and small buildings\n",
    "    building_footprints['small'] = building_footprints['area'] < small_upper_threshold\n",
    "    building_footprints['large'] = 1 - building_footprints['small']\n",
    "    \n",
    "    building_footprints = building_footprints.to_crs(sj_crs)\n",
    "    return building_footprints"
   ]
  },
  {
   "cell_type": "code",
   "execution_count": 9,
   "id": "45f7d272",
   "metadata": {},
   "outputs": [],
   "source": [
    "def main(cbg_sj, zoning, inferences_dir, size, small_threshold, large_threshold, fp):\n",
    "\n",
    "    # 1) Loop over each tile to convert the inference np.array to gpd\n",
    "    # This step outputs a gpd of building footprints: building_footprints\n",
    "    collected_footprints_file = os.path.join(fp, 'building_inferences')\n",
    "    if not os.path.exists(collected_footprints_file):\n",
    "        print('[INFO] Collecting building footprints')\n",
    "        building_footprints = collect_inferences(inferences_dir, size)\n",
    "        building_footprints.to_file(collected_footprints_file)\n",
    "        print('[INFO] Number of buildings: {}'.format(len(building_footprints)))\n",
    "\n",
    "    # 2) Vectorized processing of buildings at the cbg level using the gpd output from step 3\n",
    "    #     - combine tile edge buildings\n",
    "    #     - road filtering\n",
    "    #     - building separation\n",
    "    processed_footprints_file = os.path.join(fp, 'building_processed')\n",
    "    if not os.path.exists(processed_footprints_file):\n",
    "        print('[INFO] Loading building footprints')\n",
    "        building_footprints = gpd.read_file(collected_footprints_file)\n",
    "        print('[INFO] Number of buildings: {}'.format(len(building_footprints)))\n",
    "        \n",
    "        print('[INFO] Processing building footprints')\n",
    "        building_footprints = process_buildings(building_footprints, zoning, cbg_sj.crs)\n",
    "        building_footprints.to_file(processed_footprints_file)\n",
    "        print('[INFO] Number of buildings: {}'.format(len(building_footprints)))\n",
    "\n",
    "    # 3) assign buildings to CBGs\n",
    "    final_footprints_file = os.path.join(fp, 'building_footprints_final')\n",
    "    if not os.path.exists(final_footprints_file):\n",
    "        print('[INFO] Loading processed buildings')\n",
    "        building_footprints = gpd.read_file(processed_footprints_file)\n",
    "        print('[INFO] Number of buildings: {}'.format(len(building_footprints)))\n",
    "        \n",
    "        print('[INFO] Assigning buildings to CBGs') \n",
    "        building_footprints = assign_cbgs(building_footprints, cbg_sj)\n",
    "\n",
    "        # 4) Call gpd.geometry.area on the output from 4) using groupby with the cbg column\n",
    "        # to get cbg-level area computations for large and small buildings\n",
    "        print('[INFO] Computing building area')\n",
    "        building_footprints = compute_area(building_footprints, small_threshold, large_threshold, cbg_sj.crs)\n",
    "        \n",
    "        print('[INFO] Generating CBG-level GeoDataFrame')\n",
    "        cbg_footprints = building_footprints.groupby(['GEOID', 'small', 'large'])[['area']].sum().reset_index()\n",
    "\n",
    "        # Add back geometry data to CBGs\n",
    "        cbg_footprints = pd.merge(cbg_footprints, cbg_sj[['GEOID', 'geometry']], how='left', on='GEOID')\n",
    "\n",
    "        print('[INFO] Exporting building and CBG shapefiles')\n",
    "        building_footprints.to_file(final_footprints_file)\n",
    "        cbg_footprints.to_file(os.path.join(fp, 'cbg_inferences'))\n",
    "    else:\n",
    "        print('[INFO] Loading building and CBG shapefiles')\n",
    "        building_footprints = gpd.read_file(final_footprints_file)\n",
    "        cbg_footprints = gpd.read_file(os.path.join(fp, 'cbg_inferences'))\n",
    "\n",
    "        # 5) Visualize\n",
    "        viz(cbg_sj, cbg_footprints, 'small', fp)\n",
    "        viz(cbg_sj, cbg_footprints, 'large', fp)\n",
    "\n",
    "    return building_footprints, cbg_footprints"
   ]
  },
  {
   "cell_type": "code",
   "execution_count": 10,
   "id": "83ee6553",
   "metadata": {},
   "outputs": [],
   "source": [
    "def main_split(cbg_sj, zoning, inferences_dir, size, small_threshold, large_threshold, fp):\n",
    "\n",
    "    # 1) Loop over each tile to convert the inference np.array to gpd\n",
    "    # This step outputs a gpd of building footprints: building_footprints\n",
    "    collected_footprints_file = os.path.join(fp, 'building_inferences')\n",
    "    if not os.path.exists(collected_footprints_file):\n",
    "        print('[INFO] Collecting building footprints')\n",
    "        building_footprints = collect_inferences(inferences_dir, size)\n",
    "        building_footprints.to_file(collected_footprints_file)\n",
    "        print('[INFO] Number of buildings: {}'.format(len(building_footprints)))\n",
    "        \n",
    "    # 2) Process CBGs individually\n",
    "    final_footprints_file = os.path.join(fp, 'building_footprints_final')\n",
    "    if not os.path.exists(final_footprints_file):\n",
    "        print('[INFO] Loading building footprints')\n",
    "        building_footprints = gpd.read_file(collected_footprints_file)\n",
    "        print('[INFO] Number of buildings: {}'.format(len(building_footprints)))\n",
    "        \n",
    "        # Assign CBGs\n",
    "        print('[INFO] Assigning buildings to CBGs') \n",
    "        building_footprints = assign_cbgs(building_footprints, cbg_sj)\n",
    "        building_footprints_processed = gpd.GeoDataFrame(crs=building_footprints.crs)\n",
    "        \n",
    "        for cbg in tqdm(cbg_sj.GEOID.unique()):\n",
    "            cbg_file = os.path.join(fp, 'building_cbg_{}'.format(cbg))\n",
    "            cbg_geom = cbg_sj.loc[cbg_sj.GEOID == cbg].iloc[0]['geometry']\n",
    "            \n",
    "            # Clip building footprints\n",
    "            building_footprints_cbg = building_footprints.loc[building_footprints['GEOID'] == cbg]\n",
    "            if len(building_footprints_cbg) > 0:\n",
    "                if not os.path.exists(cbg_file):\n",
    "                    # Process cbg footprints\n",
    "                    zoning_cbg = gpd.clip(zoning, cbg_geom)\n",
    "                    building_footprints_cbg = process_buildings(building_footprints_cbg, zoning_cbg, cbg_sj.crs, False)\n",
    "\n",
    "                    # Compute area and filter for buildings that are too small\n",
    "                    building_footprints_cbg = compute_area(\n",
    "                        building_footprints_cbg, small_threshold, large_threshold, cbg_sj.crs)\n",
    "\n",
    "                    # Save \n",
    "                    building_footprints_cbg.to_file(cbg_file)\n",
    "\n",
    "                else:\n",
    "                    building_footprints_cbg = gpd.read_file(cbg_file)\n",
    "                    building_footprints_cbg['GEOID'] = cbg\n",
    "                    \n",
    "                building_footprints_processed = pd.concat([building_footprints_processed, building_footprints_cbg])\n",
    "        \n",
    "        # Save\n",
    "        print('[INFO] Saving final building footprints')\n",
    "        building_footprints_processed.to_file(final_footprints_file)\n",
    "        \n",
    "        # Combine processed footprints\n",
    "        print('[INFO] Generating CBG-level GeoDataFrame')\n",
    "        cbg_footprints = building_footprints_processed.groupby(\n",
    "            ['GEOID', 'small', 'large'])[['area']].sum().reset_index()\n",
    "\n",
    "        # Add back geometry data to CBGs\n",
    "        cbg_footprints = pd.merge(cbg_footprints, cbg_sj[['GEOID', 'geometry']], how='left', on='GEOID')\n",
    "        \n",
    "        print('[INFO] Exporting CBG shapefiles')\n",
    "        cbg_footprints.to_file(os.path.join(fp, 'cbg_inferences'))\n",
    "        \n",
    "    print('[INFO] Loading building and CBG shapefiles')\n",
    "    building_footprints = gpd.read_file(final_footprints_file)\n",
    "    cbg_footprints = gpd.read_file(os.path.join(fp, 'cbg_inferences'))\n",
    "\n",
    "    # 5) Visualize\n",
    "    viz(cbg_sj, cbg_footprints, 'small', fp)\n",
    "    viz(cbg_sj, cbg_footprints, 'large', fp)\n",
    "\n",
    "    return building_footprints, cbg_footprints"
   ]
  },
  {
   "cell_type": "markdown",
   "id": "c8b37fb1",
   "metadata": {},
   "source": [
    "# 2. Load data"
   ]
  },
  {
   "cell_type": "code",
   "execution_count": 11,
   "id": "9ce3798c",
   "metadata": {},
   "outputs": [
    {
     "data": {
      "text/plain": [
       "'/home/users/avaimar/projects/rgb-footprint-extract/naip_process'"
      ]
     },
     "execution_count": 11,
     "metadata": {},
     "output_type": "execute_result"
    }
   ],
   "source": [
    "os.getcwd()"
   ]
  },
  {
   "cell_type": "code",
   "execution_count": 12,
   "id": "7f0b4543",
   "metadata": {},
   "outputs": [],
   "source": [
    "TIF_FP = '/oak/stanford/groups/deho/building_compliance/san_jose_naip_512/raw_tif'\n",
    "SHAPEFILE_FP = '/oak/stanford/groups/deho/building_compliance/shapefiles'\n",
    "OAK_FP = '/oak/stanford/groups/deho/building_compliance/'\n",
    "OUTPUT_FP = os.path.join(OAK_FP, 'outputs', 'cbg-inference')\n",
    "INFERENCES_DIR = '/oak/stanford/groups/deho/building_compliance/san_jose_naip_512/phase2_superresx2/infer/'"
   ]
  },
  {
   "cell_type": "code",
   "execution_count": 13,
   "id": "00d325bc",
   "metadata": {},
   "outputs": [],
   "source": [
    "# CBG shapefiles\n",
    "cbg = gpd.read_file(os.path.join(SHAPEFILE_FP, 'tl_2021_06_bg'))\n",
    "cbg_scc = cbg.loc[cbg['COUNTYFP'] == '085']"
   ]
  },
  {
   "cell_type": "code",
   "execution_count": 14,
   "id": "e4d12f6d",
   "metadata": {},
   "outputs": [],
   "source": [
    "# Get San Jose city SHP\n",
    "scc_cities = gpd.read_file(os.path.join(SHAPEFILE_FP, 'City_Limits'))\n",
    "sj_city = scc_cities.loc[scc_cities['NAME'] == 'SAN JOSE']\n",
    "#sj_city"
   ]
  },
  {
   "cell_type": "code",
   "execution_count": 15,
   "id": "fde8d2c2",
   "metadata": {},
   "outputs": [],
   "source": [
    "# Get CBGs in SJ city\n",
    "cbg_scc = cbg_scc.to_crs(sj_city.crs)\n",
    "cbg_sj = gpd.clip(cbg_scc, sj_city)"
   ]
  },
  {
   "cell_type": "code",
   "execution_count": 16,
   "id": "85a6d7b6",
   "metadata": {},
   "outputs": [],
   "source": [
    "# Verify SJ CBGs \n",
    "#plt.clf()\n",
    "#fig = plt.figure(figsize=(15, 15))\n",
    "#ax = fig.gca()\n",
    "#ax.set_aspect('equal')\n",
    "#cbg_scc.plot(ax=ax, zorder=1, color='white', edgecolor=\"black\")\n",
    "#cbg_sj.plot(ax=ax, zorder=2, color='red', alpha=0.5)\n",
    "#sj_city.plot(ax=ax,  edgecolor='blue', zorder=3, alpha=0.3)\n",
    "#plt.show()"
   ]
  },
  {
   "cell_type": "code",
   "execution_count": 17,
   "id": "bdb350c0",
   "metadata": {},
   "outputs": [],
   "source": [
    "# Zoning data\n",
    "zoning = gpd.read_file(os.path.join(OAK_FP, 'san_jose_suppl', 'san_jose_Zoning_Districts.geojson'))\n",
    "zoning = zoning[(zoning['ZONINGABBREV'].str.contains('R-')) | \\\n",
    "                ((zoning['ZONINGABBREV'] == 'A(PD)') & (zoning['PDUSE'] == 'Res'))]\n",
    "zoning = zoning.to_crs(cbg_sj.crs)"
   ]
  },
  {
   "cell_type": "code",
   "execution_count": 18,
   "id": "476a5e12",
   "metadata": {},
   "outputs": [],
   "source": [
    "# Generate visualizations\n",
    "#building_footprints, cbg_footprints = main(cbg_sj=cbg_sj, zoning=zoning, \n",
    "#     inferences_dir=INFERENCES_DIR, \n",
    "#     size=512*2, small_threshold=115, large_threshold=2000, fp=OUTPUT_FP)"
   ]
  },
  {
   "cell_type": "code",
   "execution_count": null,
   "id": "02887635",
   "metadata": {},
   "outputs": [
    {
     "name": "stdout",
     "output_type": "stream",
     "text": [
      "[INFO] Loading building footprints\n",
      "[INFO] Number of buildings: 464725\n",
      "[INFO] Assigning buildings to CBGs\n"
     ]
    },
    {
     "name": "stderr",
     "output_type": "stream",
     "text": [
      " 50%|█████     | 351/698 [09:57<1:03:43, 11.02s/it]"
     ]
    }
   ],
   "source": [
    "# Generate visualizations\n",
    "building_footprints, cbg_footprints = main_split(cbg_sj=cbg_sj, zoning=zoning, \n",
    "     inferences_dir=INFERENCES_DIR, \n",
    "     size=512*2, small_threshold=180, large_threshold=None, fp=OUTPUT_FP)"
   ]
  },
  {
   "cell_type": "code",
   "execution_count": null,
   "id": "9475a872",
   "metadata": {},
   "outputs": [],
   "source": []
  },
  {
   "cell_type": "code",
   "execution_count": null,
   "id": "96f815ba",
   "metadata": {},
   "outputs": [],
   "source": []
  },
  {
   "cell_type": "code",
   "execution_count": null,
   "id": "6f1a533b",
   "metadata": {},
   "outputs": [],
   "source": []
  },
  {
   "cell_type": "code",
   "execution_count": null,
   "id": "56b91800",
   "metadata": {},
   "outputs": [],
   "source": []
  },
  {
   "cell_type": "markdown",
   "id": "9790cc16",
   "metadata": {},
   "source": [
    "Visualize raw building footprints"
   ]
  },
  {
   "cell_type": "code",
   "execution_count": null,
   "id": "bd13ffe5",
   "metadata": {},
   "outputs": [],
   "source": [
    "fp = OUTPUT_FP\n",
    "collected_footprints_file = os.path.join(fp, 'building_inferences')\n",
    "building_footprints = gpd.read_file(collected_footprints_file)"
   ]
  },
  {
   "cell_type": "code",
   "execution_count": null,
   "id": "505c31fd",
   "metadata": {},
   "outputs": [],
   "source": [
    "building_footprints = assign_cbgs(building_footprints, cbg_sj)"
   ]
  },
  {
   "cell_type": "code",
   "execution_count": null,
   "id": "8dfcd4a7",
   "metadata": {},
   "outputs": [],
   "source": [
    "cbg = cbg_sj.GEOID.unique()[1]\n",
    "building_footprints_cbg = building_footprints.loc[building_footprints['GEOID'] == cbg]"
   ]
  },
  {
   "cell_type": "code",
   "execution_count": null,
   "id": "e0ab19ed",
   "metadata": {},
   "outputs": [],
   "source": [
    "plt.clf()\n",
    "fig = plt.figure(figsize=(15, 15))\n",
    "ax = fig.gca()\n",
    "ax.set_aspect('equal')\n",
    "cbg_sj.plot(ax=ax, zorder=1, color='white', edgecolor=\"black\")\n",
    "#cbg_sj.loc[cbg_sj.GEOID == cbg].plot(ax=ax, zorder=2, color='green', edgecolor=\"black\")\n",
    "building_footprints.plot(ax=ax, zorder=3, alpha=0.5)\n",
    "plt.show()"
   ]
  },
  {
   "cell_type": "code",
   "execution_count": null,
   "id": "a107d633",
   "metadata": {},
   "outputs": [],
   "source": []
  }
 ],
 "metadata": {
  "kernelspec": {
   "display_name": "Python 3",
   "language": "python",
   "name": "python3"
  },
  "language_info": {
   "codemirror_mode": {
    "name": "ipython",
    "version": 3
   },
   "file_extension": ".py",
   "mimetype": "text/x-python",
   "name": "python",
   "nbconvert_exporter": "python",
   "pygments_lexer": "ipython3",
   "version": "3.8.10"
  }
 },
 "nbformat": 4,
 "nbformat_minor": 5
}
