{
 "cells": [
  {
   "cell_type": "markdown",
   "id": "d4986549",
   "metadata": {},
   "source": [
    "# Post-processing & Small mIoU functions"
   ]
  },
  {
   "cell_type": "code",
   "execution_count": 1,
   "id": "aae92989",
   "metadata": {},
   "outputs": [],
   "source": [
    "import numpy as np\n",
    "from skimage import io, img_as_bool, measure, morphology\n",
    "from skimage.draw import polygon, polygon2mask\n",
    "import matplotlib.pyplot as plt\n",
    "import os\n",
    "\n",
    "import geopandas as gpd\n",
    "import rasterio\n",
    "import os\n",
    "\n",
    "import pyproj\n",
    "from shapely.geometry import box, Polygon\n",
    "import shapely\n",
    "from shapely.ops import transform, unary_union\n",
    "import rasterio.features\n",
    "import glob\n"
   ]
  },
  {
   "cell_type": "markdown",
   "id": "cedaaf5c",
   "metadata": {},
   "source": [
    "## 1. Processing Small Building Predictions and GT Footprints: helper functions"
   ]
  },
  {
   "cell_type": "markdown",
   "id": "fc66c57b",
   "metadata": {},
   "source": [
    "### 1.1 Convert np.array to gpd"
   ]
  },
  {
   "cell_type": "code",
   "execution_count": 9,
   "id": "6160b08f",
   "metadata": {},
   "outputs": [],
   "source": [
    "def get_footprint_gpd(mask, file_name, size):\n",
    "    \"\"\"\n",
    "    Converts predictions from np.array to shapely polygons\n",
    "    :mask: (np.array)\n",
    "    :file_name: (str)\n",
    "    :return: (gpd.GeoDataFrame)\n",
    "    \"\"\"\n",
    "    \n",
    "    tif_fp = '/oak/stanford/groups/deho/building_compliance/san_jose_naip_512/raw_tif'\n",
    "    with rasterio.open(os.path.join(tif_fp, f'{file_name}.tif')) as ds:\n",
    "        t = ds.transform\n",
    "        \n",
    "    # Adjust for resolution\n",
    "    if size == 512:\n",
    "        factor = 1\n",
    "    elif size == 1024:\n",
    "        factor = 2\n",
    "    else:\n",
    "        raise NotImplemented('[ERROR] GPD Footprint --- Check resolution')\n",
    "    \n",
    "    shapes = rasterio.features.shapes(mask, connectivity=4)\n",
    "    polygons = [shapely.geometry.Polygon(shape[0][\"coordinates\"][0]) for shape in shapes if shape[1] == 1]\n",
    "    polygons = [shapely.affinity.affine_transform(geom, [t.a/factor,t.b,t.d,t.e/factor,t.xoff,t.yoff]) for geom in polygons]\n",
    "    buildings = gpd.GeoDataFrame(geometry=polygons, crs='EPSG:26910')\n",
    "    buildings = buildings.to_crs('EPSG:4326')\n",
    "    return buildings"
   ]
  },
  {
   "cell_type": "markdown",
   "id": "e1f1ffd7",
   "metadata": {},
   "source": [
    "### 1.2 Pad buildings"
   ]
  },
  {
   "cell_type": "code",
   "execution_count": 10,
   "id": "933f7402",
   "metadata": {},
   "outputs": [],
   "source": [
    "# Pad small gt buildings\n",
    "def pad_small_buildings(buildings_gpd, pad_buffer):\n",
    "    buildings_gpd = buildings_gpd.to_crs(crs=3857)\n",
    "    buildings_gpd.geometry = buildings_gpd.geometry.buffer(pad_buffer)\n",
    "    buildings_gpd = buildings_gpd.to_crs('EPSG:4326')\n",
    "    return buildings_gpd"
   ]
  },
  {
   "cell_type": "markdown",
   "id": "577b51a2",
   "metadata": {},
   "source": [
    "### 1.3 Separate buildings"
   ]
  },
  {
   "cell_type": "code",
   "execution_count": 11,
   "id": "db28ac74",
   "metadata": {},
   "outputs": [],
   "source": [
    "def separate_buildings(buildings_gpd, buffer_val):\n",
    "    buildings_gpd = buildings_gpd.to_crs(crs=3857)\n",
    "    buildings_gpd.geometry = buildings_gpd.geometry.buffer(-buffer_val)\n",
    "    buildings_gpd = buildings_gpd.explode(index_parts=False)\n",
    "    buildings_gpd.geometry = buildings_gpd.geometry.buffer(buffer_val)\n",
    "    buildings_gpd = buildings_gpd.to_crs('EPSG:4326')\n",
    "    return buildings_gpd"
   ]
  },
  {
   "cell_type": "markdown",
   "id": "7a2b1098",
   "metadata": {},
   "source": [
    "### 1.4 Filter roads"
   ]
  },
  {
   "cell_type": "code",
   "execution_count": 12,
   "id": "2af3b9b9",
   "metadata": {},
   "outputs": [],
   "source": [
    "def filter_roads(buildings_gpd, file_name, road_buffer):\n",
    "    tif_fp = '/oak/stanford/groups/deho/building_compliance/san_jose_naip_512/raw_tif'\n",
    "    oak_fp = '/oak/stanford/groups/deho/building_compliance/'\n",
    "    zoning = gpd.read_file(os.path.join(oak_fp, 'san_jose_suppl', 'san_jose_Zoning_Districts.geojson'))\n",
    "    zoning = zoning[(zoning['ZONINGABBREV'].str.contains('R-')) | \\\n",
    "                   ((zoning['ZONINGABBREV'] == 'A(PD)') & (zoning['PDUSE'] == 'Res'))]\n",
    "    \n",
    "    with rasterio.open(os.path.join(tif_fp, f'{file_name}.tif')) as inds:\n",
    "        bounds = inds.bounds\n",
    "        geom = box(*bounds)\n",
    "\n",
    "    # prepare to convert TIF bounds to standard 4326\n",
    "    wgs84 = pyproj.CRS('EPSG:26910') # LA is 11, SJ is 10\n",
    "    utm = pyproj.CRS('EPSG:4326')\n",
    "\n",
    "    project = pyproj.Transformer.from_crs(wgs84, utm, always_xy=True).transform\n",
    "\n",
    "    # convert\n",
    "    utm_geom = shapely.ops.transform(project, geom)\n",
    "\n",
    "    # clip the residential zones to just the TIF bounds\n",
    "    zoning_clipped = gpd.clip(zoning, utm_geom)\n",
    "    \n",
    "    ## --- FILTER OUT PREDICTIONS ON ROADS (and other non-residential areas) ----\n",
    "    zoning_clipped = zoning_clipped.to_crs(crs=3857)\n",
    "    zoning_clipped = zoning_clipped.buffer(road_buffer)\n",
    "    zoning_clipped = zoning_clipped.to_crs('EPSG:4326')\n",
    "    \n",
    "    buildings_gpd = gpd.clip(buildings_gpd, zoning_clipped)\n",
    "    return buildings_gpd"
   ]
  },
  {
   "cell_type": "markdown",
   "id": "dd58fe06",
   "metadata": {},
   "source": [
    "### 1.5 Filter small buildings"
   ]
  },
  {
   "cell_type": "code",
   "execution_count": 13,
   "id": "e347686c",
   "metadata": {},
   "outputs": [],
   "source": [
    "def filter_buildings_area(buildings_gpd, area_thresh, larger_than=True):\n",
    "    buildings_gpd = buildings_gpd.to_crs(crs=3857)\n",
    "    buildings_gpd['area'] = buildings_gpd.area\n",
    "    if larger_than:\n",
    "        buildings_gpd = buildings_gpd.loc[buildings_gpd['area'] > area_thresh]\n",
    "    else:\n",
    "        buildings_gpd = buildings_gpd.loc[buildings_gpd['area'] < area_thresh]\n",
    "    buildings_gpd = buildings_gpd.to_crs('EPSG:4326')\n",
    "    return buildings_gpd"
   ]
  },
  {
   "cell_type": "markdown",
   "id": "01984288",
   "metadata": {},
   "source": [
    "### 1.6 Convert gpd to np.array"
   ]
  },
  {
   "cell_type": "code",
   "execution_count": 14,
   "id": "f2178808",
   "metadata": {},
   "outputs": [],
   "source": [
    "def get_nparray_from_gpd(building_gpd, file_name, size):\n",
    "    # Create empty array\n",
    "    building_np = np.zeros((size, size), dtype=\"int64\")\n",
    "\n",
    "    tif_fp = '/oak/stanford/groups/deho/building_compliance/san_jose_naip_512/raw_tif'\n",
    "    with rasterio.open(os.path.join(tif_fp, f'{file_name}.tif')) as ds:\n",
    "        t = ds.transform\n",
    "    \n",
    "    # Transform polygons to pixel space\n",
    "    building_gpd = building_gpd.to_crs(crs='EPSG:26910')\n",
    "    building_gpd = building_gpd.explode(column='geometry', index_parts=False, ignore_index=True)\n",
    "    \n",
    "    polygons = building_gpd.geometry\n",
    "    #polygons = [shapely.affinity.affine_transform(\n",
    "    #    geom, \n",
    "    #    [1/t.a, # a\n",
    "    #     0, # b\n",
    "    #     0, # d\n",
    "    #     1/t.e, # e\n",
    "    #     -t.xoff/t.a, #xOff\n",
    "    #     -t.yoff/t.e]) for geom in polygons] #yOff\n",
    "    \n",
    "    # Adjust for resolution\n",
    "    if size == 512:\n",
    "        factor = 1\n",
    "    elif size == 1024:\n",
    "        factor = 2\n",
    "    else:\n",
    "        raise NotImplemented('[ERROR] GPD Footprint --- Check resolution')\n",
    "    A = t.a / factor\n",
    "    E = t.e / factor\n",
    "    \n",
    "    # Get inverse transformation\n",
    "    k = 1/(1 - (t.b * t.d)/(A * E))\n",
    "    polygons = [shapely.affinity.affine_transform(\n",
    "    geom, \n",
    "    [k / A, # a\n",
    "     -(t.b * k)/(A * E), # b\n",
    "     -(t.d * k)/(E * A), # d\n",
    "     1/E + (t.d * t.b * k)/(E * A * E), # e\n",
    "     (k/A) * ((t.b *t.yoff)/(E) -t.xoff), #xOff\n",
    "     -(t.d * k * t.b * t.yoff)/(E * A * E) + (t.d * k * t.xoff)/(E * A) - t.yoff/E]) for geom in polygons] #yOff\n",
    "    \n",
    "    # Create mask for each polygon\n",
    "    for poly in polygons:\n",
    "        a = poly.exterior.coords.xy\n",
    "        poly_coords = np.array(list(zip(a[0], a[1])))\n",
    "        poly_mask= polygon2mask((size, size), polygon=list(zip(a[1], a[0])))\n",
    "        building_np += poly_mask\n",
    "        \n",
    "    # Flatten\n",
    "    building_np = (building_np > 0).astype(np.int32)\n",
    "    \n",
    "    return building_np"
   ]
  },
  {
   "cell_type": "markdown",
   "id": "f91214be",
   "metadata": {},
   "source": [
    "### 1.6 Get (processed) small building predictions incorporating 1.1-1.5"
   ]
  },
  {
   "cell_type": "code",
   "execution_count": 15,
   "id": "ca00d8b8",
   "metadata": {},
   "outputs": [],
   "source": [
    "# Get predicted small buildings\n",
    "def get_pred_small_buildings(pred_image, file_name, buffer_val, small_area_thresh, \n",
    "                             large_area_thresh, road_buffer, np=True):    \n",
    "    # Get gpd of building footprints\n",
    "    inferred_buildings = get_footprint_gpd(mask=pred_image, file_name=file_name, size=pred_image.shape[0])\n",
    "    \n",
    "    # Separate closely connected buildings\n",
    "    inferred_buildings = separate_buildings(buildings_gpd=inferred_buildings, buffer_val=buffer_val)\n",
    "    \n",
    "    # Filter out predictions on roads\n",
    "    inferred_buildings = filter_roads(buildings_gpd=inferred_buildings, file_name=file_name, road_buffer=road_buffer)\n",
    "    \n",
    "    # Filter out predictions that are too small\n",
    "    inferred_buildings = filter_buildings_area(\n",
    "        buildings_gpd=inferred_buildings, area_thresh=small_area_thresh, larger_than=True)\n",
    "    \n",
    "    # Filter for small buildings\n",
    "    inferred_buildings = filter_buildings_area(\n",
    "        buildings_gpd=inferred_buildings, area_thresh=large_area_thresh, larger_than=False)\n",
    "    \n",
    "    if not np:\n",
    "        return inferred_buildings\n",
    "    \n",
    "    # Convert from GPD to np.array\n",
    "    pred_small_build = get_nparray_from_gpd(building_gpd=inferred_buildings, file_name=file_name, \n",
    "                                            size=pred_image.shape[0])\n",
    "    \n",
    "    return pred_small_build"
   ]
  },
  {
   "cell_type": "markdown",
   "id": "f8a51904",
   "metadata": {},
   "source": [
    "## 2. Compute mIoU main function"
   ]
  },
  {
   "cell_type": "code",
   "execution_count": 18,
   "id": "91977ce0",
   "metadata": {},
   "outputs": [],
   "source": [
    "def mIOU_manual(gt_image, pred_image):\n",
    "    len_batch = len(gt_image)\n",
    "    classes = np.unique(gt_image)\n",
    "\n",
    "    mIOU = []\n",
    "\n",
    "\n",
    "\n",
    "    for c in classes:\n",
    "        curr_gt, curr_pred = (gt_image == c).astype(np.int32), (pred_image == c).astype(np.int32)\n",
    "\n",
    "        overlap = np.sum(np.logical_and(curr_gt, curr_pred))\n",
    "        n_gt = np.sum(curr_gt)\n",
    "        n_pred = np.sum(curr_pred)\n",
    "\n",
    "        iou = (overlap) / (n_gt + n_pred - overlap)\n",
    "\n",
    "        mIOU.append( iou )\n",
    "\n",
    "    mIOU = sum(mIOU) / len(classes)\n",
    "    return mIOU"
   ]
  },
  {
   "cell_type": "code",
   "execution_count": 19,
   "id": "563d87a5",
   "metadata": {},
   "outputs": [],
   "source": [
    "def small_mIOU(gt_image, pred_image, gt_area, file_name, pad_buffer, buffer_val, \n",
    "               small_area_thresh, large_area_thresh, road_buffer):\n",
    "    len_batch = len(gt_image)\n",
    "    classes = np.unique(gt_image)\n",
    "\n",
    "    mIOU = []\n",
    "\n",
    "    def compute_iou(gt, pred):\n",
    "        overlap = np.sum(np.logical_and(gt, pred))\n",
    "        n_gt = np.sum(gt)\n",
    "        n_pred = np.sum(pred)\n",
    "        return (overlap) / (n_gt + n_pred - overlap)\n",
    "\n",
    "    # Get gt and predictions for each class\n",
    "    bg_gt, bg_pred = (gt_image == 0).astype(np.int32), (pred_image == 0).astype(np.int32)\n",
    "    build_gt, build_pred = (gt_image == 1).astype(np.int32), (pred_image == 1).astype(np.int32)\n",
    "\n",
    "    # Class 0 (bg) ---------------------\n",
    "    # * Get gt small buildings \n",
    "    #small_build_gt = ((gt_area < 115.) & (gt_area > 15)).astype(bool)\n",
    "    build_gt_gpd = get_footprint_gpd(mask=gt_image, file_name=file_name, size=gt_image.shape[0])\n",
    "    small_build_gt_gpd = filter_buildings_area(\n",
    "        buildings_gpd=build_gt_gpd, area_thresh=small_area_thresh, larger_than=True)\n",
    "    small_build_gt_gpd = filter_buildings_area(\n",
    "        buildings_gpd=small_build_gt_gpd, area_thresh=large_area_thresh, larger_than=False)\n",
    "    small_build_gt_np = get_nparray_from_gpd(small_build_gt_gpd, file_name, pred_image.shape[0])\n",
    "    \n",
    "    # * Pad gt small buildings\n",
    "    padded_small_build_gt_gpd = pad_small_buildings(buildings_gpd=small_build_gt_gpd, pad_buffer=pad_buffer)\n",
    "    padded_small_build_gt_np = get_nparray_from_gpd(padded_small_build_gt_gpd, file_name, pred_image.shape[0])\n",
    "\n",
    "    # * Get predicted small buildings\n",
    "    small_build_pred_np = get_pred_small_buildings(\n",
    "        pred_image=pred_image, file_name=file_name, buffer_val=buffer_val, \n",
    "        small_area_thresh=small_area_thresh, large_area_thresh=large_area_thresh, road_buffer=road_buffer)\n",
    "    \n",
    "    # Invert\n",
    "    bg_mask_np = ((padded_small_build_gt_np + small_build_pred_np) > 0).astype(np.int32)\n",
    "    #bg_mask_np = 1 - bg_mask_np\n",
    "\n",
    "    # * Mask predictions with padded gt small buildings and predicted small buildings\n",
    "    masked_bg_pred = np.multiply(bg_pred, bg_mask_np)\n",
    "    masked_bg_gt = np.multiply(bg_gt, bg_mask_np)\n",
    "\n",
    "    bg_iou = compute_iou(masked_bg_gt, masked_bg_pred)\n",
    "    mIOU.append(bg_iou)\n",
    "\n",
    "    # Class 1 (building) ---------------------\n",
    "    # * Mask predictions with small buildings\n",
    "    small_build_pred_masked_np = np.multiply(build_pred, small_build_gt_np)\n",
    "\n",
    "    # * Compute mIOU with adjusted gt/pred\n",
    "    build_iou = compute_iou(small_build_gt_np, small_build_pred_masked_np)\n",
    "    mIOU.append(build_iou)\n",
    "\n",
    "    maps = {'class_0_gt': masked_bg_gt, 'class_0_pred': masked_bg_pred, \n",
    "            'class_1_gt': small_build_gt_np, 'class_1_pred': small_build_pred_masked_np, \n",
    "           'mask_bg': bg_mask_np, 'mask_bd': small_build_gt_np, \n",
    "           'mask_bg_pad': padded_small_build_gt_np, 'mask_bg_smallpred': small_build_pred_np,\n",
    "           'trad_bg_gt': bg_gt, 'trad_bg_pred': bg_pred, 'trad_bd_gt': build_gt, 'trad_bd_pred': build_pred}\n",
    "    return (sum(mIOU) / len(classes), maps)"
   ]
  }
 ],
 "metadata": {
  "kernelspec": {
   "display_name": "Python 3",
   "language": "python",
   "name": "python3"
  },
  "language_info": {
   "codemirror_mode": {
    "name": "ipython",
    "version": 3
   },
   "file_extension": ".py",
   "mimetype": "text/x-python",
   "name": "python",
   "nbconvert_exporter": "python",
   "pygments_lexer": "ipython3",
   "version": "3.8.10"
  }
 },
 "nbformat": 4,
 "nbformat_minor": 5
}
